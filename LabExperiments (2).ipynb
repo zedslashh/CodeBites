{
  "nbformat": 4,
  "nbformat_minor": 0,
  "metadata": {
    "colab": {
      "provenance": []
    },
    "kernelspec": {
      "name": "python3",
      "display_name": "Python 3"
    },
    "language_info": {
      "name": "python"
    }
  },
  "cells": [
    {
      "cell_type": "markdown",
      "source": [
        "**SELECTION AND ITERATION OPERATIONS**"
      ],
      "metadata": {
        "id": "AkmvT2l0Kcj4"
      }
    },
    {
      "cell_type": "markdown",
      "source": [
        "1.Get an integer input from user.If the number is odd,then find the factorial of the number and find the number of digits in the factorial of the number.If the number is even,then check if given number is palindrome or not"
      ],
      "metadata": {
        "id": "uoMvjowTLfXi"
      }
    },
    {
      "cell_type": "code",
      "source": [
        "num=int(input(\"Enter a number:\"))\n",
        "if num%2!=0:\n",
        "  fact=1\n",
        "  for i in range(2,num):\n",
        "    fact*=num\n",
        "  print(\"The factorial of the number is:\",fact)\n",
        "  count=0\n",
        "  while fact!=0:\n",
        "    fact//=10\n",
        "    count+=1\n",
        "  print(\"The number of digits in factorial is:\",count)\n",
        "\n",
        "else:\n",
        "  temp=num\n",
        "  rev=0\n",
        "  while temp!=0:\n",
        "    digit=temp%10\n",
        "    rev=rev*10+digit\n",
        "    temp//=10\n",
        "  if num==rev:\n",
        "    print(\"The number is a palindrome\")\n",
        "  else:\n",
        "    print(\"The number is not a palindrome\")\n"
      ],
      "metadata": {
        "colab": {
          "base_uri": "https://localhost:8080/"
        },
        "id": "MsUY-tLUMY6Y",
        "outputId": "253906fb-e684-4d5c-8123-e81c6e7a0d40"
      },
      "execution_count": 1,
      "outputs": [
        {
          "output_type": "stream",
          "name": "stdout",
          "text": [
            "Enter a number:242\n",
            "The number is a palindrome\n"
          ]
        }
      ]
    },
    {
      "cell_type": "markdown",
      "source": [
        "**STRING AND ITS OPERATIONS**"
      ],
      "metadata": {
        "id": "C1uMqjyJOAXn"
      }
    },
    {
      "cell_type": "markdown",
      "source": [
        "2.Given two strings.print yes or no,whether the second string can be obtained from the first by deletion of none,one or more characters"
      ],
      "metadata": {
        "id": "HPbydzRhONW2"
      }
    },
    {
      "cell_type": "code",
      "source": [
        "str1=input(\"Enter a string:\")\n",
        "str2=input(\"Enter another string:\")\n",
        "count=0\n",
        "for i in range(0,len(str2)):\n",
        "  if str2[i] in str1:\n",
        "    count+=1\n",
        "if count>=len(str2):\n",
        "  print(\"Yes\")\n",
        "else:\n",
        "  print(\"No\")"
      ],
      "metadata": {
        "id": "vnS1qpIuObSa",
        "colab": {
          "base_uri": "https://localhost:8080/"
        },
        "outputId": "6187fd35-2584-400f-eb0d-d2a92dc3528c"
      },
      "execution_count": 2,
      "outputs": [
        {
          "output_type": "stream",
          "name": "stdout",
          "text": [
            "Enter a string:oncemore\n",
            "Enter another string:one\n",
            "Yes\n"
          ]
        }
      ]
    },
    {
      "cell_type": "markdown",
      "source": [
        "**LIST AND ITS OPERATIONS**"
      ],
      "metadata": {
        "id": "Avb-aG5-O-kp"
      }
    },
    {
      "cell_type": "markdown",
      "source": [
        "3 A.Programs for positive and negative indexing"
      ],
      "metadata": {
        "id": "ifNAEgefPG79"
      }
    },
    {
      "cell_type": "code",
      "source": [
        "list1= list(map(int, input(\"Enter values in the list: \"). split()))\n",
        "\n",
        "#positive indexing\n",
        "print(list1[0:5])\n",
        "print(list1[::])\n",
        "print(list1[2:7:2])\n",
        "\n",
        "#negative indexing\n",
        "print(list1[::-1])\n",
        "print(list1[-5:-1])\n",
        "print(list1[-7::-2])"
      ],
      "metadata": {
        "colab": {
          "base_uri": "https://localhost:8080/"
        },
        "id": "stTM9LUsPSq2",
        "outputId": "d3a5730e-8b95-419d-8613-451772d9c4c3"
      },
      "execution_count": 3,
      "outputs": [
        {
          "output_type": "stream",
          "name": "stdout",
          "text": [
            "Enter values in the list: 1 9 8 4 5 6 3\n",
            "[1, 9, 8, 4, 5]\n",
            "[1, 9, 8, 4, 5, 6, 3]\n",
            "[8, 5, 3]\n",
            "[3, 6, 5, 4, 8, 9, 1]\n",
            "[8, 4, 5, 6]\n",
            "[1]\n"
          ]
        }
      ]
    },
    {
      "cell_type": "markdown",
      "source": [
        "3 B.Program to check if the given list is in ascending order or not"
      ],
      "metadata": {
        "id": "tNDxR3PmQ4ns"
      }
    },
    {
      "cell_type": "code",
      "source": [
        "def sortedornot(list1):\n",
        "  for i in range(0,len(list1)):\n",
        "    for j in range(i+1):\n",
        "      if list1[i]<list1[j]:\n",
        "        return False\n",
        "  return True\n",
        "list1= list(map(int, input(\"Enter values in the list: \"). split()))\n",
        "res=sortedornot(list1)\n",
        "if res==True:\n",
        "  print(\"The list is sorted\")\n",
        "else:\n",
        "  print(\"The list is not sorted\")\n"
      ],
      "metadata": {
        "colab": {
          "base_uri": "https://localhost:8080/"
        },
        "id": "84Gn8_TfRSPe",
        "outputId": "352e3974-037e-4ad9-a0d4-41af30b84b60"
      },
      "execution_count": 4,
      "outputs": [
        {
          "output_type": "stream",
          "name": "stdout",
          "text": [
            "Enter values in the list: 1 2 3 4 5 6\n",
            "The list is sorted\n"
          ]
        }
      ]
    },
    {
      "cell_type": "markdown",
      "source": [
        "**TUPLES AND ITS OPERATIONS**"
      ],
      "metadata": {
        "id": "4fNopTQWSuhA"
      }
    },
    {
      "cell_type": "markdown",
      "source": [
        "4 a.Python program to convert a tuple into string"
      ],
      "metadata": {
        "id": "Uyh6pVuDS0EI"
      }
    },
    {
      "cell_type": "code",
      "source": [
        "tup1=('w','O','r','L','d')\n",
        "str1=\"\"\n",
        "for i in tup1:\n",
        "  str1+=i\n",
        "\n",
        "print(\"The string is:\",str1)"
      ],
      "metadata": {
        "id": "OOGkq9kJTJNV",
        "colab": {
          "base_uri": "https://localhost:8080/"
        },
        "outputId": "d24afd22-a4f8-4a4d-ae13-4972e01d916a"
      },
      "execution_count": 5,
      "outputs": [
        {
          "output_type": "stream",
          "name": "stdout",
          "text": [
            "The string is: wOrLd\n"
          ]
        }
      ]
    },
    {
      "cell_type": "markdown",
      "source": [
        "4 b.Python program to reverse a tuple\n"
      ],
      "metadata": {
        "id": "5hOGinoQMpN4"
      }
    },
    {
      "cell_type": "code",
      "source": [
        "def revtuple(tuple1):\n",
        "  revtuples=tuple1[::-1]\n",
        "  print(\"The tuple in reverse:\",revtuples)\n",
        "\n",
        "tuple1=(1,7,6,5,3,8,9)\n",
        "print(\"The original tuple is:\",tuple1)\n",
        "revtuple(tuple1)\n"
      ],
      "metadata": {
        "colab": {
          "base_uri": "https://localhost:8080/"
        },
        "id": "4cHBmsx-M_xB",
        "outputId": "7e5122ae-db17-4a87-e324-67d07b044379"
      },
      "execution_count": 6,
      "outputs": [
        {
          "output_type": "stream",
          "name": "stdout",
          "text": [
            "The original tuple is: (1, 7, 6, 5, 3, 8, 9)\n",
            "The tuple in reverse: (9, 8, 3, 5, 6, 7, 1)\n"
          ]
        }
      ]
    },
    {
      "cell_type": "markdown",
      "source": [
        "**SET AND ITS OPERATIONS**"
      ],
      "metadata": {
        "id": "othZ7RKROCFl"
      }
    },
    {
      "cell_type": "markdown",
      "source": [
        "5.Python program to check if a set is a subset of another set"
      ],
      "metadata": {
        "id": "zzBdc8iCOMVP"
      }
    },
    {
      "cell_type": "code",
      "source": [
        "a = {1, 2, 3}\n",
        "b = {1, 2, 3, 4}\n",
        "\n",
        "result=(a<=b)\n",
        "if result==True:\n",
        "  print(\"The set a is a subset of set b\")\n",
        "else:\n",
        "  print(\"The set a is not a subset of set b\")"
      ],
      "metadata": {
        "colab": {
          "base_uri": "https://localhost:8080/"
        },
        "id": "xJdXp7bUOT7j",
        "outputId": "6674d46d-bb7f-4daa-ca78-05e3d45b998c"
      },
      "execution_count": 7,
      "outputs": [
        {
          "output_type": "stream",
          "name": "stdout",
          "text": [
            "The set a is a subset of set b\n"
          ]
        }
      ]
    },
    {
      "cell_type": "markdown",
      "source": [
        "**DICTIONARIES AND ITS OPERATIONS**"
      ],
      "metadata": {
        "id": "WRynwA87PKQr"
      }
    },
    {
      "cell_type": "markdown",
      "source": [
        "6.Python program to iterate over dictionaries using for loops"
      ],
      "metadata": {
        "id": "K0ePLDLqPSkS"
      }
    },
    {
      "cell_type": "code",
      "source": [
        "dt = {'United States': 'Washington D.C.', 'Italy': 'Rome', 'England': 'London'}\n",
        "\n",
        "for key, value in dt.items():\n",
        "    print(key,':',value)"
      ],
      "metadata": {
        "colab": {
          "base_uri": "https://localhost:8080/"
        },
        "id": "BlMikFdvPbZM",
        "outputId": "170f343e-8575-4c89-e1b7-8caafc500896"
      },
      "execution_count": 8,
      "outputs": [
        {
          "output_type": "stream",
          "name": "stdout",
          "text": [
            "United States : Washington D.C.\n",
            "Italy : Rome\n",
            "England : London\n"
          ]
        }
      ]
    }
  ]
}